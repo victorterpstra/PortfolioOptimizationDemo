{
    "cells": [
        {
            "cell_type": "code",
            "execution_count": 225,
            "metadata": {},
            "outputs": [],
            "source": "# The code was removed by Watson Studio for sharing."
        },
        {
            "cell_type": "markdown",
            "metadata": {
                "collapsed": true
            },
            "source": "# Portfolio Allocation\nSolver notebook\n\nRequires:\n* dse-do-utils\n* decision-optimization-client"
        },
        {
            "cell_type": "code",
            "execution_count": 226,
            "metadata": {},
            "outputs": [],
            "source": "import pandas as pd"
        },
        {
            "cell_type": "markdown",
            "metadata": {},
            "source": "# Load data from scenario"
        },
        {
            "cell_type": "code",
            "execution_count": 227,
            "metadata": {},
            "outputs": [
                {
                    "name": "stdout",
                    "output_type": "stream",
                    "text": "Input tables: covariance, investment, parameters\nOutput tables: stats, kpis, investmentAllocation, portfolioKPIs\n"
                }
            ],
            "source": "#dd-ignore\nfrom dse_do_utils import ScenarioManager\nDO_MODEL_NAME = 'PortfolioAllocation'\nSCENARIO_NAME = 'Scenario 1'\n\n# from dse_do_utils import ScenarioManager\nsm = ScenarioManager(model_name=DO_MODEL_NAME, scenario_name=SCENARIO_NAME, project=project)\ninputs, outputs = sm.load_data_from_scenario()\nsm.print_table_names()"
        },
        {
            "cell_type": "markdown",
            "metadata": {},
            "source": "Get input data from inputs"
        },
        {
            "cell_type": "code",
            "execution_count": 229,
            "metadata": {},
            "outputs": [
                {
                    "data": {
                        "text/html": "<div>\n<style scoped>\n    .dataframe tbody tr th:only-of-type {\n        vertical-align: middle;\n    }\n\n    .dataframe tbody tr th {\n        vertical-align: top;\n    }\n\n    .dataframe thead th {\n        text-align: right;\n    }\n</style>\n<table border=\"1\" class=\"dataframe\">\n  <thead>\n    <tr style=\"text-align: right;\">\n      <th></th>\n      <th>expected_return</th>\n      <th>recommendation</th>\n      <th>country</th>\n      <th>industry</th>\n      <th>index</th>\n      <th>stock_price</th>\n      <th>expected_return_amount</th>\n    </tr>\n    <tr>\n      <th>id</th>\n      <th></th>\n      <th></th>\n      <th></th>\n      <th></th>\n      <th></th>\n      <th></th>\n      <th></th>\n    </tr>\n  </thead>\n  <tbody>\n    <tr>\n      <th>Invest0</th>\n      <td>1.00125</td>\n      <td>Strong Sell</td>\n      <td>FR</td>\n      <td>Utilities</td>\n      <td>0</td>\n      <td>161.150</td>\n      <td>161.351438</td>\n    </tr>\n    <tr>\n      <th>Invest1</th>\n      <td>1.56359</td>\n      <td>Buy</td>\n      <td>IT</td>\n      <td>Utilities</td>\n      <td>1</td>\n      <td>83.460</td>\n      <td>130.497221</td>\n    </tr>\n    <tr>\n      <th>Invest2</th>\n      <td>1.19330</td>\n      <td>Neutral</td>\n      <td>DE</td>\n      <td>Chemicals</td>\n      <td>2</td>\n      <td>24.380</td>\n      <td>29.092654</td>\n    </tr>\n    <tr>\n      <th>Invest3</th>\n      <td>1.80874</td>\n      <td>Strong Buy</td>\n      <td>DE</td>\n      <td>Chemicals</td>\n      <td>3</td>\n      <td>76.555</td>\n      <td>138.468091</td>\n    </tr>\n    <tr>\n      <th>Invest4</th>\n      <td>1.58501</td>\n      <td>Buy</td>\n      <td>FR</td>\n      <td>Insurance</td>\n      <td>4</td>\n      <td>122.300</td>\n      <td>193.846723</td>\n    </tr>\n  </tbody>\n</table>\n</div>",
                        "text/plain": "         expected_return recommendation country   industry  index  \\\nid                                                                  \nInvest0          1.00125    Strong Sell      FR  Utilities      0   \nInvest1          1.56359            Buy      IT  Utilities      1   \nInvest2          1.19330        Neutral      DE  Chemicals      2   \nInvest3          1.80874     Strong Buy      DE  Chemicals      3   \nInvest4          1.58501            Buy      FR  Insurance      4   \n\n         stock_price  expected_return_amount  \nid                                            \nInvest0      161.150              161.351438  \nInvest1       83.460              130.497221  \nInvest2       24.380               29.092654  \nInvest3       76.555              138.468091  \nInvest4      122.300              193.846723  "
                    },
                    "execution_count": 229,
                    "metadata": {},
                    "output_type": "execute_result"
                }
            ],
            "source": "all_investments = inputs['investment'].set_index(['id'], verify_integrity=True)\nall_investments.head()"
        },
        {
            "cell_type": "code",
            "execution_count": 230,
            "metadata": {},
            "outputs": [
                {
                    "data": {
                        "text/html": "<div>\n<style scoped>\n    .dataframe tbody tr th:only-of-type {\n        vertical-align: middle;\n    }\n\n    .dataframe tbody tr th {\n        vertical-align: top;\n    }\n\n    .dataframe thead th {\n        text-align: right;\n    }\n</style>\n<table border=\"1\" class=\"dataframe\">\n  <thead>\n    <tr style=\"text-align: right;\">\n      <th></th>\n      <th></th>\n      <th>value</th>\n    </tr>\n    <tr>\n      <th>investment_1</th>\n      <th>investment_2</th>\n      <th></th>\n    </tr>\n  </thead>\n  <tbody>\n    <tr>\n      <th>Invest0</th>\n      <th>Invest0</th>\n      <td>10.950000</td>\n    </tr>\n    <tr>\n      <th>Invest1</th>\n      <th>Invest0</th>\n      <td>-0.119083</td>\n    </tr>\n    <tr>\n      <th>Invest2</th>\n      <th>Invest0</th>\n      <td>-0.008911</td>\n    </tr>\n    <tr>\n      <th>Invest3</th>\n      <th>Invest0</th>\n      <td>0.531663</td>\n    </tr>\n    <tr>\n      <th>Invest4</th>\n      <th>Invest0</th>\n      <td>0.601764</td>\n    </tr>\n  </tbody>\n</table>\n</div>",
                        "text/plain": "                               value\ninvestment_1 investment_2           \nInvest0      Invest0       10.950000\nInvest1      Invest0       -0.119083\nInvest2      Invest0       -0.008911\nInvest3      Invest0        0.531663\nInvest4      Invest0        0.601764"
                    },
                    "execution_count": 230,
                    "metadata": {},
                    "output_type": "execute_result"
                }
            ],
            "source": "covariance = inputs['covariance'].set_index(['investment_1', 'investment_2'], verify_integrity=True)\ncovariance.head()"
        },
        {
            "cell_type": "markdown",
            "metadata": {},
            "source": "# Pre-processing"
        },
        {
            "cell_type": "markdown",
            "metadata": {},
            "source": "## Exclude 'Strong Sell'"
        },
        {
            "cell_type": "code",
            "execution_count": 231,
            "metadata": {},
            "outputs": [
                {
                    "name": "stdout",
                    "output_type": "stream",
                    "text": "Removed 2 Strong Sell investments\n"
                }
            ],
            "source": "investments = all_investments.query(\"recommendation != 'Strong Sell'\").copy() # Copy so that we can add columns without a warning\nprint(f\"Removed {len(all_investments)-len(investments)} Strong Sell investments\")"
        },
        {
            "cell_type": "markdown",
            "metadata": {},
            "source": "# Model"
        },
        {
            "cell_type": "code",
            "execution_count": 232,
            "metadata": {},
            "outputs": [],
            "source": "from docplex.mp.model import Model\nmdl = Model(name='PortfolioAllocation')"
        },
        {
            "cell_type": "markdown",
            "metadata": {},
            "source": "# Decision Variables\n\nDecision variables (per investment):\n* $xInvest$ : float - the value of the investment\n* $xInvestShares$ : integer - the number of shares\n* $xInvestSelect$: boolean - True if invested\n"
        },
        {
            "cell_type": "code",
            "execution_count": 233,
            "metadata": {
                "scrolled": true
            },
            "outputs": [],
            "source": "investments['xInvestShares'] = pd.Series(mdl.integer_var_list(investments.index, lb=0, name='xInvestShares'), index = investments.index)  # Integer number of shares\ninvestments['xInvest'] = pd.Series(mdl.semicontinuous_var_list(investments.index, lb=10, ub=1000, name='xInvest'), index = investments.index)  # Integer number of shares\ninvestments['xInvestSelect'] = pd.Series(mdl.binary_var_list(investments.index, name='xSelect'), index = investments.index)"
        },
        {
            "cell_type": "markdown",
            "metadata": {},
            "source": "# KPIs and Objective\n\nThe investment table column `expected_return` is the multiplied with the investment value to compute the expected return value of the investment.\n\n$$\n\\begin{align}\nexpectedReturnAmount &= \\sum\\limits_{\\forall i} xInvest_{i} * expectedReturn_i &&\\qquad \\text{with }  i \\in investments\\\\\n\\end{align}\n$$"
        },
        {
            "cell_type": "code",
            "execution_count": 234,
            "metadata": {},
            "outputs": [
                {
                    "data": {
                        "text/plain": "DecisionKPI(name=ExpectedReturn,expr=1.564xInvest_Invest1+1.193xInvest_Invest2+1.809xInvest_Invest3+1..)"
                    },
                    "execution_count": 234,
                    "metadata": {},
                    "output_type": "execute_result"
                }
            ],
            "source": "expected_return_kpi = mdl.sum(investments.xInvest * investments.expected_return)\nmdl.add_kpi(expected_return_kpi, \"ExpectedReturn\")"
        },
        {
            "cell_type": "markdown",
            "metadata": {},
            "source": "$$\n\\begin{align}\nmargin &= \\sum\\limits_{\\forall p, c} xDeliver_{p,c} * margin_p &&\\qquad \\text{with }  p \\in product, c \\in clients\\\\\n\\end{align}\n$$"
        },
        {
            "cell_type": "markdown",
            "metadata": {},
            "source": "## Variance\n\nvariance = mdl.sum(float(df_var[s1][s2]) * fracs[s1] * fracs[s2] for s1 in df_stocks.index for s2 in df_stocks.index)<br>\n\n\n$$\n\\begin{align}\nvariance &= \\sum\\limits_{\\forall i,j} xInvest_{i} * xInvest_{j} * covariance_{i,j} &&\\qquad \\text{with }  i,j \\in investments\\\\\n\\end{align}\n$$"
        },
        {
            "cell_type": "code",
            "execution_count": 235,
            "metadata": {},
            "outputs": [
                {
                    "data": {
                        "text/html": "<div>\n<style scoped>\n    .dataframe tbody tr th:only-of-type {\n        vertical-align: middle;\n    }\n\n    .dataframe tbody tr th {\n        vertical-align: top;\n    }\n\n    .dataframe thead th {\n        text-align: right;\n    }\n</style>\n<table border=\"1\" class=\"dataframe\">\n  <thead>\n    <tr style=\"text-align: right;\">\n      <th></th>\n      <th>investment_1</th>\n      <th>investment_2</th>\n      <th>value</th>\n      <th>xInvest_1</th>\n      <th>xInvest_2</th>\n    </tr>\n  </thead>\n  <tbody>\n    <tr>\n      <th>0</th>\n      <td>Invest1</td>\n      <td>Invest1</td>\n      <td>9.817770</td>\n      <td>xInvest_Invest1</td>\n      <td>xInvest_Invest1</td>\n    </tr>\n    <tr>\n      <th>1</th>\n      <td>Invest2</td>\n      <td>Invest1</td>\n      <td>-0.677206</td>\n      <td>xInvest_Invest2</td>\n      <td>xInvest_Invest1</td>\n    </tr>\n    <tr>\n      <th>2</th>\n      <td>Invest3</td>\n      <td>Invest1</td>\n      <td>0.008789</td>\n      <td>xInvest_Invest3</td>\n      <td>xInvest_Invest1</td>\n    </tr>\n    <tr>\n      <th>3</th>\n      <td>Invest4</td>\n      <td>Invest1</td>\n      <td>-0.275887</td>\n      <td>xInvest_Invest4</td>\n      <td>xInvest_Invest1</td>\n    </tr>\n    <tr>\n      <th>4</th>\n      <td>Invest5</td>\n      <td>Invest1</td>\n      <td>0.587909</td>\n      <td>xInvest_Invest5</td>\n      <td>xInvest_Invest1</td>\n    </tr>\n  </tbody>\n</table>\n</div>",
                        "text/plain": "  investment_1 investment_2     value        xInvest_1        xInvest_2\n0      Invest1      Invest1  9.817770  xInvest_Invest1  xInvest_Invest1\n1      Invest2      Invest1 -0.677206  xInvest_Invest2  xInvest_Invest1\n2      Invest3      Invest1  0.008789  xInvest_Invest3  xInvest_Invest1\n3      Invest4      Invest1 -0.275887  xInvest_Invest4  xInvest_Invest1\n4      Invest5      Invest1  0.587909  xInvest_Invest5  xInvest_Invest1"
                    },
                    "execution_count": 235,
                    "metadata": {},
                    "output_type": "execute_result"
                }
            ],
            "source": "covariance_join = (covariance\n                   .copy()\n                   .reset_index()\n                   .merge(investments[['xInvest']].reset_index(), left_on='investment_1', right_on='id')\n                   .rename(columns={'xInvest':'xInvest_1'})\n                   .drop(columns=['id'])\n                   .merge(investments[['xInvest']].reset_index(), left_on='investment_2', right_on='id')\n                   .rename(columns={'xInvest':'xInvest_2'})\n                   .drop(columns=['id'])\n                  )\ncovariance_join.head()"
        },
        {
            "cell_type": "code",
            "execution_count": 236,
            "metadata": {},
            "outputs": [
                {
                    "data": {
                        "text/plain": "DecisionKPI(name=Covariance,expr=9.818xInvest_Invest1^2-1.354xInvest_Invest1*xInvest_Invest2+0.01..)"
                    },
                    "execution_count": 236,
                    "metadata": {},
                    "output_type": "execute_result"
                }
            ],
            "source": "covariance_kpi = mdl.sum(covariance_join.value * covariance_join.xInvest_1 * covariance_join.xInvest_2)\n_ = mdl.add_kpi(covariance_kpi, 'Covariance')"
        },
        {
            "cell_type": "code",
            "execution_count": 237,
            "metadata": {},
            "outputs": [],
            "source": "mdl.maximize(expected_return_kpi - 0.005 * covariance_kpi)"
        },
        {
            "cell_type": "markdown",
            "metadata": {},
            "source": "# Constraints"
        },
        {
            "cell_type": "markdown",
            "metadata": {},
            "source": "## Synchronization - Invest only whole number of shares\n\n$$\n\\begin{align}\nxInvestShares_{i} &=  xInvest_{i} * stockPrice_i &&\\qquad \\text{with }  i \\in investments\\\\\n\\end{align}\n$$"
        },
        {
            "cell_type": "code",
            "execution_count": 256,
            "metadata": {
                "scrolled": true
            },
            "outputs": [
                {
                    "ename": "AttributeError",
                    "evalue": "'Pandas' object has no attribute 'xInvest'",
                    "output_type": "error",
                    "traceback": [
                        "\u001b[0;31m---------------------------------------------------------------------------\u001b[0m",
                        "\u001b[0;31mAttributeError\u001b[0m                            Traceback (most recent call last)",
                        "\u001b[0;32m/tmp/wsuser/ipykernel_2291/3916141930.py\u001b[0m in \u001b[0;36m<module>\u001b[0;34m\u001b[0m\n\u001b[0;32m----> 1\u001b[0;31m \u001b[0m_\u001b[0m \u001b[0;34m=\u001b[0m \u001b[0mmdl\u001b[0m\u001b[0;34m.\u001b[0m\u001b[0madd_constraints\u001b[0m\u001b[0;34m(\u001b[0m\u001b[0;34m[\u001b[0m\u001b[0minvestment\u001b[0m\u001b[0;34m.\u001b[0m\u001b[0mxInvest\u001b[0m \u001b[0;34m==\u001b[0m \u001b[0minvestment\u001b[0m\u001b[0;34m.\u001b[0m\u001b[0mxInvestShares\u001b[0m \u001b[0;34m*\u001b[0m \u001b[0minvestment\u001b[0m\u001b[0;34m.\u001b[0m\u001b[0mstock_price\u001b[0m \u001b[0;32mfor\u001b[0m \u001b[0minvestment\u001b[0m \u001b[0;32min\u001b[0m \u001b[0minvestments\u001b[0m\u001b[0;34m.\u001b[0m\u001b[0mitertuples\u001b[0m\u001b[0;34m(\u001b[0m\u001b[0;34m)\u001b[0m\u001b[0;34m]\u001b[0m\u001b[0;34m)\u001b[0m\u001b[0;34m\u001b[0m\u001b[0;34m\u001b[0m\u001b[0m\n\u001b[0m",
                        "\u001b[0;32m/tmp/wsuser/ipykernel_2291/3916141930.py\u001b[0m in \u001b[0;36m<listcomp>\u001b[0;34m(.0)\u001b[0m\n\u001b[0;32m----> 1\u001b[0;31m \u001b[0m_\u001b[0m \u001b[0;34m=\u001b[0m \u001b[0mmdl\u001b[0m\u001b[0;34m.\u001b[0m\u001b[0madd_constraints\u001b[0m\u001b[0;34m(\u001b[0m\u001b[0;34m[\u001b[0m\u001b[0minvestment\u001b[0m\u001b[0;34m.\u001b[0m\u001b[0mxInvest\u001b[0m \u001b[0;34m==\u001b[0m \u001b[0minvestment\u001b[0m\u001b[0;34m.\u001b[0m\u001b[0mxInvestShares\u001b[0m \u001b[0;34m*\u001b[0m \u001b[0minvestment\u001b[0m\u001b[0;34m.\u001b[0m\u001b[0mstock_price\u001b[0m \u001b[0;32mfor\u001b[0m \u001b[0minvestment\u001b[0m \u001b[0;32min\u001b[0m \u001b[0minvestments\u001b[0m\u001b[0;34m.\u001b[0m\u001b[0mitertuples\u001b[0m\u001b[0;34m(\u001b[0m\u001b[0;34m)\u001b[0m\u001b[0;34m]\u001b[0m\u001b[0;34m)\u001b[0m\u001b[0;34m\u001b[0m\u001b[0;34m\u001b[0m\u001b[0m\n\u001b[0m",
                        "\u001b[0;31mAttributeError\u001b[0m: 'Pandas' object has no attribute 'xInvest'"
                    ]
                }
            ],
            "source": "_ = mdl.add_constraints([investment.xInvest == investment.xInvestShares * investment.stock_price for investment in investments.itertuples()])"
        },
        {
            "cell_type": "markdown",
            "metadata": {},
            "source": "## Select binary dvar\nIf investing in a investment, then it must be above a minimum and below a maximum.\n\n$$\n\\begin{align}\nxInvest_{i} &>=  xInvestSelect_{i} * investLb &&\\qquad \\text{with }  i \\in investments\\\\\nxInvest_{i} &<=  xInvestSelect_{i} * investUb &&\\qquad \\text{with }  i \\in investments\\\\\n\\end{align}\n$$"
        },
        {
            "cell_type": "code",
            "execution_count": 239,
            "metadata": {},
            "outputs": [
                {
                    "data": {
                        "text/plain": "[docplex.mp.LinearConstraint[](xInvest_Invest1,LE,1000xSelect_Invest1),\n docplex.mp.LinearConstraint[](xInvest_Invest2,LE,1000xSelect_Invest2),\n docplex.mp.LinearConstraint[](xInvest_Invest3,LE,1000xSelect_Invest3),\n docplex.mp.LinearConstraint[](xInvest_Invest4,LE,1000xSelect_Invest4),\n docplex.mp.LinearConstraint[](xInvest_Invest5,LE,1000xSelect_Invest5),\n docplex.mp.LinearConstraint[](xInvest_Invest6,LE,1000xSelect_Invest6),\n docplex.mp.LinearConstraint[](xInvest_Invest7,LE,1000xSelect_Invest7),\n docplex.mp.LinearConstraint[](xInvest_Invest8,LE,1000xSelect_Invest8),\n docplex.mp.LinearConstraint[](xInvest_Invest9,LE,1000xSelect_Invest9),\n docplex.mp.LinearConstraint[](xInvest_Invest10,LE,1000xSelect_Invest10),\n docplex.mp.LinearConstraint[](xInvest_Invest11,LE,1000xSelect_Invest11),\n docplex.mp.LinearConstraint[](xInvest_Invest12,LE,1000xSelect_Invest12),\n docplex.mp.LinearConstraint[](xInvest_Invest13,LE,1000xSelect_Invest13),\n docplex.mp.LinearConstraint[](xInvest_Invest14,LE,1000xSelect_Invest14),\n docplex.mp.LinearConstraint[](xInvest_Invest16,LE,1000xSelect_Invest16),\n docplex.mp.LinearConstraint[](xInvest_Invest17,LE,1000xSelect_Invest17),\n docplex.mp.LinearConstraint[](xInvest_Invest18,LE,1000xSelect_Invest18),\n docplex.mp.LinearConstraint[](xInvest_Invest19,LE,1000xSelect_Invest19)]"
                    },
                    "execution_count": 239,
                    "metadata": {},
                    "output_type": "execute_result"
                }
            ],
            "source": "invest_lb = 10\ninvest_ub = 1000\n_ = mdl.add_constraints([investment.xInvest >= investment.xInvestSelect * invest_lb\n                     for investment in investments.itertuples()])\n_ = mdl.add_constraints([investment.xInvest <= investment.xInvestSelect * invest_ub\n                     for investment in investments.itertuples()])"
        },
        {
            "cell_type": "markdown",
            "metadata": {},
            "source": "## Maximum budget"
        },
        {
            "cell_type": "code",
            "execution_count": 240,
            "metadata": {},
            "outputs": [
                {
                    "data": {
                        "text/plain": "docplex.mp.LinearConstraint[MaxBudgetC](xInvest_Invest1+xInvest_Invest2+xInvest_Invest3+xInvest_Invest4+xInvest_Invest5+xInvest_Invest6+xInvest_Invest7+xInvest_Invest8+xInvest_Invest9+xInvest_Invest10+xInvest_Invest11+xInvest_Invest12+xInvest_Invest13+xInvest_Invest14+xInvest_Invest16+xInvest_Invest17+xInvest_Invest18+xInvest_Invest19,LE,10000)"
                    },
                    "execution_count": 240,
                    "metadata": {},
                    "output_type": "execute_result"
                }
            ],
            "source": "max_budget = 10000\nmdl.add_constraint(mdl.sum(investments.xInvest) <= max_budget, 'MaxBudgetC')"
        },
        {
            "cell_type": "markdown",
            "metadata": {},
            "source": "## Maximum and minimum investment per fund\nIf invest in fund, invest at least a minimum (10) and cap at maximum (1000)"
        },
        {
            "cell_type": "markdown",
            "metadata": {},
            "source": "## Max funds to invest"
        },
        {
            "cell_type": "code",
            "execution_count": 241,
            "metadata": {},
            "outputs": [
                {
                    "data": {
                        "text/plain": "docplex.mp.LinearConstraint[MaxNumInvestmentsC](xSelect_Invest1+xSelect_Invest2+xSelect_Invest3+xSelect_Invest4+xSelect_Invest5+xSelect_Invest6+xSelect_Invest7+xSelect_Invest8+xSelect_Invest9+xSelect_Invest10+xSelect_Invest11+xSelect_Invest12+xSelect_Invest13+xSelect_Invest14+xSelect_Invest16+xSelect_Invest17+xSelect_Invest18+xSelect_Invest19,LE,6)"
                    },
                    "execution_count": 241,
                    "metadata": {},
                    "output_type": "execute_result"
                }
            ],
            "source": "max_num_funds = 6\nmdl.add_constraint(mdl.sum(investments.xInvestSelect) <= max_num_funds, 'MaxNumInvestmentsC')"
        },
        {
            "cell_type": "markdown",
            "metadata": {},
            "source": "## Investment mix constraints"
        },
        {
            "cell_type": "markdown",
            "metadata": {},
            "source": "### Max num investments per country"
        },
        {
            "cell_type": "code",
            "execution_count": 242,
            "metadata": {},
            "outputs": [],
            "source": "max_investments_per_country = 3\nfor country, group in investments.groupby('country'):\n    mdl.add_constraint(mdl.sum(group.xInvestSelect) <= max_investments_per_country, 'MaxInvestmentsPerCountryC_{}'.format(country))"
        },
        {
            "cell_type": "markdown",
            "metadata": {},
            "source": "### Max num investments per industry"
        },
        {
            "cell_type": "code",
            "execution_count": 243,
            "metadata": {},
            "outputs": [],
            "source": "max_investments_per_industry = 2\nfor industry, group in investments.groupby('industry'):\n    mdl.add_constraint(mdl.sum(group.xInvestSelect) <= max_investments_per_country, 'MaxInvestmentsPerIndustryC_{}'.format(industry))"
        },
        {
            "cell_type": "markdown",
            "metadata": {},
            "source": "# Solve"
        },
        {
            "cell_type": "code",
            "execution_count": 244,
            "metadata": {},
            "outputs": [
                {
                    "name": "stdout",
                    "output_type": "stream",
                    "text": "WARNING: Number of workers has been reduced to 2 to comply with platform limitations.\nVersion identifier: 20.1.0.0 | 2020-11-10 | 9bedb6d68\nCPXPARAM_Read_DataCheck                          1\nCPXPARAM_Threads                                 2\nCPXPARAM_TimeLimit                               30\nTried aggregator 1 time.\nMIQP Presolve eliminated 13 rows and 0 columns.\nMIQP Presolve modified 18 coefficients.\nReduced MIQP has 94 rows, 72 columns, and 230 nonzeros.\nReduced MIQP has 36 binaries, 18 generals, 0 SOSs, and 0 indicators.\nReduced MIQP objective Q matrix has 324 nonzeros.\nPresolve time = 0.01 sec. (0.16 ticks)\nProbing time = 0.00 sec. (0.04 ticks)\nTried aggregator 1 time.\nMIQP Presolve eliminated 36 rows and 18 columns.\nReduced MIQP has 58 rows, 54 columns, and 158 nonzeros.\nReduced MIQP has 18 binaries, 18 generals, 0 SOSs, and 0 indicators.\nReduced MIQP objective Q matrix has 324 nonzeros.\nPresolve time = 0.00 sec. (0.19 ticks)\nProbing time = 0.00 sec. (0.01 ticks)\nTried aggregator 1 time.\nReduced MIQP has 58 rows, 54 columns, and 158 nonzeros.\nReduced MIQP has 18 binaries, 18 generals, 0 SOSs, and 0 indicators.\nReduced MIQP objective Q matrix has 324 nonzeros.\nPresolve time = 0.00 sec. (0.11 ticks)\nClassifier predicts products in MIQP should be linearized.\nProbing time = 0.00 sec. (0.01 ticks)\nMIP emphasis: balance optimality and feasibility.\nMIP search method: dynamic search.\nParallel mode: deterministic, using up to 2 threads.\nRoot relaxation solution time = 0.01 sec. (0.62 ticks)\n\n        Nodes                                         Cuts/\n   Node  Left     Objective  IInf  Best Integer    Best Bound    ItCnt     Gap\n\n      0     0      209.2412    36                    209.2412       13         \n*     0+    0                           34.0449      209.2412           514.60%\n*     0+    0                           48.8190      116.4165           138.47%\n\nRepeating presolve.\nTried aggregator 1 time.\nMIQP Presolve eliminated 21 rows and 21 columns.\nReduced MIQP has 37 rows, 33 columns, and 97 nonzeros.\nReduced MIQP has 11 binaries, 11 generals, 0 SOSs, and 0 indicators.\nReduced MIQP objective Q matrix has 121 nonzeros.\nPresolve time = 0.00 sec. (0.07 ticks)\nProbing time = 0.00 sec. (0.01 ticks)\nCover probing fixed 0 vars, tightened 2 bounds.\nTried aggregator 1 time.\nReduced MIQP has 37 rows, 33 columns, and 97 nonzeros.\nReduced MIQP has 11 binaries, 11 generals, 0 SOSs, and 0 indicators.\nReduced MIQP objective Q matrix has 121 nonzeros.\nPresolve time = 0.00 sec. (0.05 ticks)\nRepresolve time = 0.01 sec. (0.18 ticks)\nProbing time = 0.00 sec. (0.01 ticks)\nCover probing fixed 0 vars, tightened 2 bounds.\nTightened 1 constraints.\nMIP emphasis: balance optimality and feasibility.\nMIP search method: dynamic search.\nParallel mode: deterministic, using up to 2 threads.\nRoot relaxation solution time = 0.01 sec. (0.33 ticks)\n\n        Nodes                                         Cuts/\n   Node  Left     Objective  IInf  Best Integer    Best Bound    ItCnt     Gap\n\n*     0+    0                           48.8190      116.4165           138.47%\n      0     0      116.4165    22       48.8190      116.4165       34  138.47%\n*     0+    0                           67.3696      104.8108            55.58%\n      0     2      104.8108    20       67.3696      100.1197       35   48.61%\nElapsed time = 0.10 sec. (5.21 ticks, tree = 0.02 MB, solutions = 3)\n*    15+    1                           73.7724       95.0931            28.90%\n\nRoot node processing (before b&c):\n  Real time             =    0.10 sec. (5.15 ticks)\nParallel b&c, 2 threads:\n  Real time             =    0.02 sec. (1.83 ticks)\n  Sync time (average)   =    0.00 sec.\n  Wait time (average)   =    0.00 sec.\n                          ------------\nTotal (root+branch&cut) =    0.12 sec. (6.99 ticks)\n* model PortfolioAllocation solved with objective = 73.772\n*  KPI: ExpectedReturn = 164.364\n*  KPI: Covariance     = 18118.268\n"
                }
            ],
            "source": "msol = mdl.solve(log_output=True, cplex_parameters = {'timelimit':30})\nif msol is not None:\n    mdl.report()"
        },
        {
            "cell_type": "markdown",
            "metadata": {},
            "source": "## Extract KPIs\nMake sure to extract KPIs before doing the Pareto front. \nAfter the Pareto front loop, the KPIs will be those of the last run in the Pareto iteration."
        },
        {
            "cell_type": "code",
            "execution_count": 245,
            "metadata": {},
            "outputs": [
                {
                    "data": {
                        "text/html": "<div>\n<style scoped>\n    .dataframe tbody tr th:only-of-type {\n        vertical-align: middle;\n    }\n\n    .dataframe tbody tr th {\n        vertical-align: top;\n    }\n\n    .dataframe thead th {\n        text-align: right;\n    }\n</style>\n<table border=\"1\" class=\"dataframe\">\n  <thead>\n    <tr style=\"text-align: right;\">\n      <th></th>\n      <th>kpi</th>\n      <th>value</th>\n    </tr>\n  </thead>\n  <tbody>\n    <tr>\n      <th>0</th>\n      <td>ExpectedReturn</td>\n      <td>164.363744</td>\n    </tr>\n    <tr>\n      <th>1</th>\n      <td>Covariance</td>\n      <td>18118.268015</td>\n    </tr>\n  </tbody>\n</table>\n</div>",
                        "text/plain": "              kpi         value\n0  ExpectedReturn    164.363744\n1      Covariance  18118.268015"
                    },
                    "execution_count": 245,
                    "metadata": {},
                    "output_type": "execute_result"
                }
            ],
            "source": "all_kpis = [(kp.name, kp.compute()) for kp in mdl.iter_kpis()]\ndf_kpis = pd.DataFrame(all_kpis, columns=['kpi', 'value'])\ndf_kpis"
        },
        {
            "cell_type": "markdown",
            "metadata": {},
            "source": "## Extract solution"
        },
        {
            "cell_type": "code",
            "execution_count": 246,
            "metadata": {},
            "outputs": [],
            "source": "investments['investment_allocation_decision'] = [dvar.solution_value for dvar in investments.xInvest]\ninvestments['investment_pieces_decision'] = [dvar.solution_value for dvar in investments.xInvestShares]\ninvestments['selected_investment_decision'] = [dvar.solution_value for dvar in investments.xInvestSelect]\ninvestments = investments.drop(columns=['xInvestShares', 'xInvest', 'xInvestSelect'])"
        },
        {
            "cell_type": "code",
            "execution_count": 247,
            "metadata": {
                "scrolled": true
            },
            "outputs": [
                {
                    "data": {
                        "text/html": "<div>\n<style scoped>\n    .dataframe tbody tr th:only-of-type {\n        vertical-align: middle;\n    }\n\n    .dataframe tbody tr th {\n        vertical-align: top;\n    }\n\n    .dataframe thead th {\n        text-align: right;\n    }\n</style>\n<table border=\"1\" class=\"dataframe\">\n  <thead>\n    <tr style=\"text-align: right;\">\n      <th></th>\n      <th>expected_return</th>\n      <th>recommendation</th>\n      <th>country</th>\n      <th>industry</th>\n      <th>index</th>\n      <th>stock_price</th>\n      <th>expected_return_amount</th>\n      <th>investment_allocation_decision</th>\n      <th>investment_pieces_decision</th>\n      <th>selected_investment_decision</th>\n    </tr>\n    <tr>\n      <th>id</th>\n      <th></th>\n      <th></th>\n      <th></th>\n      <th></th>\n      <th></th>\n      <th></th>\n      <th></th>\n      <th></th>\n      <th></th>\n      <th></th>\n    </tr>\n  </thead>\n  <tbody>\n    <tr>\n      <th>Invest1</th>\n      <td>1.56359</td>\n      <td>Buy</td>\n      <td>IT</td>\n      <td>Utilities</td>\n      <td>1</td>\n      <td>83.460</td>\n      <td>130.497221</td>\n      <td>0.000</td>\n      <td>0.0</td>\n      <td>0.0</td>\n    </tr>\n    <tr>\n      <th>Invest2</th>\n      <td>1.19330</td>\n      <td>Neutral</td>\n      <td>DE</td>\n      <td>Chemicals</td>\n      <td>2</td>\n      <td>24.380</td>\n      <td>29.092654</td>\n      <td>24.380</td>\n      <td>1.0</td>\n      <td>1.0</td>\n    </tr>\n    <tr>\n      <th>Invest3</th>\n      <td>1.80874</td>\n      <td>Strong Buy</td>\n      <td>DE</td>\n      <td>Chemicals</td>\n      <td>3</td>\n      <td>76.555</td>\n      <td>138.468091</td>\n      <td>0.000</td>\n      <td>0.0</td>\n      <td>0.0</td>\n    </tr>\n    <tr>\n      <th>Invest4</th>\n      <td>1.58501</td>\n      <td>Buy</td>\n      <td>FR</td>\n      <td>Insurance</td>\n      <td>4</td>\n      <td>122.300</td>\n      <td>193.846723</td>\n      <td>0.000</td>\n      <td>0.0</td>\n      <td>0.0</td>\n    </tr>\n    <tr>\n      <th>Invest5</th>\n      <td>1.47987</td>\n      <td>Buy</td>\n      <td>NL</td>\n      <td>Technology</td>\n      <td>5</td>\n      <td>7.646</td>\n      <td>11.315086</td>\n      <td>15.292</td>\n      <td>2.0</td>\n      <td>1.0</td>\n    </tr>\n  </tbody>\n</table>\n</div>",
                        "text/plain": "         expected_return recommendation country    industry  index  \\\nid                                                                   \nInvest1          1.56359            Buy      IT   Utilities      1   \nInvest2          1.19330        Neutral      DE   Chemicals      2   \nInvest3          1.80874     Strong Buy      DE   Chemicals      3   \nInvest4          1.58501            Buy      FR   Insurance      4   \nInvest5          1.47987            Buy      NL  Technology      5   \n\n         stock_price  expected_return_amount  investment_allocation_decision  \\\nid                                                                             \nInvest1       83.460              130.497221                           0.000   \nInvest2       24.380               29.092654                          24.380   \nInvest3       76.555              138.468091                           0.000   \nInvest4      122.300              193.846723                           0.000   \nInvest5        7.646               11.315086                          15.292   \n\n         investment_pieces_decision  selected_investment_decision  \nid                                                                 \nInvest1                         0.0                           0.0  \nInvest2                         1.0                           1.0  \nInvest3                         0.0                           0.0  \nInvest4                         0.0                           0.0  \nInvest5                         2.0                           1.0  "
                    },
                    "execution_count": 247,
                    "metadata": {},
                    "output_type": "execute_result"
                }
            ],
            "source": "investments.head()"
        },
        {
            "cell_type": "markdown",
            "metadata": {},
            "source": "# Pareto front\n\nFind a set of samples where:\n* Given an expected return (x-axis)\n* Find the minimum variance (y-axis)\n\nApproach:\n* Find range of return:\n  * Maximize return (without covariance)\n  * Minimize covariance, then maximize return (lex)\n* Sample the return range\n* Start with the return lower-range, run an optimization:\n  * add/change constraint xReturn >= return_sample\n  * minimize covariance\n* Plot the Pareto curve"
        },
        {
            "cell_type": "markdown",
            "metadata": {},
            "source": "### Find return upper-range\nMaximize(only) the return. Ignore covariance."
        },
        {
            "cell_type": "code",
            "execution_count": 248,
            "metadata": {},
            "outputs": [
                {
                    "data": {
                        "text/plain": "10608.3695527"
                    },
                    "execution_count": 248,
                    "metadata": {},
                    "output_type": "execute_result"
                }
            ],
            "source": "mdl.maximize(expected_return_kpi)\nmdl.solve()\nreturn_max_range = expected_return_kpi.solution_value\nreturn_max_range"
        },
        {
            "cell_type": "markdown",
            "metadata": {},
            "source": "### Find return lower-range\nFirst, minimize the covariance KPI.<br>\nThen fix this value and maximize the return.<br>\nThis will generate the lower-bound for the return."
        },
        {
            "cell_type": "code",
            "execution_count": 249,
            "metadata": {},
            "outputs": [
                {
                    "data": {
                        "text/plain": "0.0"
                    },
                    "execution_count": 249,
                    "metadata": {},
                    "output_type": "execute_result"
                }
            ],
            "source": "mdl.minimize(covariance_kpi)\nmdl.solve()\ncovariance_min_range = covariance_kpi.solution_value\n# return_min_range_v1 = expected_return_kpi.solution_value\ncovariance_min_range"
        },
        {
            "cell_type": "code",
            "execution_count": 250,
            "metadata": {},
            "outputs": [
                {
                    "data": {
                        "text/plain": "0.0"
                    },
                    "execution_count": 250,
                    "metadata": {},
                    "output_type": "execute_result"
                }
            ],
            "source": "c = mdl.add_constraint(covariance_kpi <= covariance_min_range)\nmdl.maximize(expected_return_kpi)\nmdl.solve()\nreturn_min_range = expected_return_kpi.solution_value\nmdl.remove(c)\nreturn_min_range"
        },
        {
            "cell_type": "markdown",
            "metadata": {},
            "source": "### Create a samples for Pareto front iteration\nThese are the (fixed) values for the return for which we'll minimize the covariance."
        },
        {
            "cell_type": "code",
            "execution_count": 251,
            "metadata": {},
            "outputs": [
                {
                    "data": {
                        "text/plain": "array([    0.        ,  1178.70772808,  2357.41545616,  3536.12318423,\n        4714.83091231,  5893.53864039,  7072.24636847,  8250.95409654,\n        9429.66182462, 10608.3695527 ])"
                    },
                    "execution_count": 251,
                    "metadata": {},
                    "output_type": "execute_result"
                }
            ],
            "source": "import numpy\n# numpy.linspace(start, stop, num=50, endpoint=True, retstep=False, dtype=None)\nreturn_samples = numpy.linspace(start=return_min_range, stop=return_max_range, num=10, endpoint=True, retstep=False, dtype=None)\nreturn_samples"
        },
        {
            "cell_type": "markdown",
            "metadata": {},
            "source": "### Pareto front computation\n* loop from high to low return\n* Initially add one constraint: return_kpi > 0\n* In each iteration, relax the rhs value\n\nAs a result:\n* This ensures a warm start from a feasible value (and might be faster).\n* We can easily re-run this loop."
        },
        {
            "cell_type": "code",
            "execution_count": 252,
            "metadata": {
                "scrolled": true
            },
            "outputs": [
                {
                    "name": "stdout",
                    "output_type": "stream",
                    "text": "return  = 10608.3695527\nreturn  = 9429.661824622222\nreturn  = 8250.954096544445\nreturn  = 7072.246368466667\nreturn  = 5893.538640388889\nreturn  = 4714.830912311111\nreturn  = 3536.1231842333336\nreturn  = 2357.4154561555556\nreturn  = 1178.7077280777778\nreturn  = 0.0\n"
                },
                {
                    "data": {
                        "text/html": "<div>\n<style scoped>\n    .dataframe tbody tr th:only-of-type {\n        vertical-align: middle;\n    }\n\n    .dataframe tbody tr th {\n        vertical-align: top;\n    }\n\n    .dataframe thead th {\n        text-align: right;\n    }\n</style>\n<table border=\"1\" class=\"dataframe\">\n  <thead>\n    <tr style=\"text-align: right;\">\n      <th></th>\n      <th>return_sol</th>\n      <th>covariance_sol</th>\n    </tr>\n  </thead>\n  <tbody>\n    <tr>\n      <th>0</th>\n      <td>10608.369553</td>\n      <td>5.693218e+07</td>\n    </tr>\n    <tr>\n      <th>1</th>\n      <td>9430.675244</td>\n      <td>4.285024e+07</td>\n    </tr>\n    <tr>\n      <th>2</th>\n      <td>8252.416813</td>\n      <td>3.270995e+07</td>\n    </tr>\n    <tr>\n      <th>3</th>\n      <td>7072.566480</td>\n      <td>2.398704e+07</td>\n    </tr>\n    <tr>\n      <th>4</th>\n      <td>5897.826114</td>\n      <td>1.673948e+07</td>\n    </tr>\n    <tr>\n      <th>5</th>\n      <td>4723.009590</td>\n      <td>1.070670e+07</td>\n    </tr>\n    <tr>\n      <th>6</th>\n      <td>3542.929101</td>\n      <td>6.061079e+06</td>\n    </tr>\n    <tr>\n      <th>7</th>\n      <td>2361.504795</td>\n      <td>2.676674e+06</td>\n    </tr>\n    <tr>\n      <th>8</th>\n      <td>1180.475034</td>\n      <td>7.049170e+05</td>\n    </tr>\n    <tr>\n      <th>9</th>\n      <td>0.000000</td>\n      <td>0.000000e+00</td>\n    </tr>\n  </tbody>\n</table>\n</div>",
                        "text/plain": "     return_sol  covariance_sol\n0  10608.369553    5.693218e+07\n1   9430.675244    4.285024e+07\n2   8252.416813    3.270995e+07\n3   7072.566480    2.398704e+07\n4   5897.826114    1.673948e+07\n5   4723.009590    1.070670e+07\n6   3542.929101    6.061079e+06\n7   2361.504795    2.676674e+06\n8   1180.475034    7.049170e+05\n9      0.000000    0.000000e+00"
                    },
                    "execution_count": 252,
                    "metadata": {},
                    "output_type": "execute_result"
                }
            ],
            "source": "data = []\nmdl.minimize(covariance_kpi)\nc = mdl.add_constraint(expected_return_kpi >= 0)  # Initialize constraint without restricting the value\nfor return_value in reversed(return_samples):\n    print(f\"return  = {return_value}\")\n    c.rhs = return_value  # The right-hand-side contains the constant\n    mdl.solve()\n    data.append({'return_sol':expected_return_kpi.solution_value, 'covariance_sol':covariance_kpi.solution_value})\n# c.rhs = 0  # Or delete the constraint\nmdl.remove(c)\npareto_df = pd.DataFrame(data)\npareto_df"
        },
        {
            "cell_type": "code",
            "execution_count": 253,
            "metadata": {
                "scrolled": true
            },
            "outputs": [
                {
                    "data": {
                        "application/vnd.plotly.v1+json": {
                            "config": {
                                "plotlyServerURL": "https://plot.ly"
                            },
                            "data": [
                                {
                                    "hovertemplate": "covariance_sol=%{x}<br>return_sol=%{y}<extra></extra>",
                                    "legendgroup": "",
                                    "line": {
                                        "color": "#636efa",
                                        "dash": "solid"
                                    },
                                    "mode": "lines",
                                    "name": "",
                                    "orientation": "v",
                                    "showlegend": false,
                                    "type": "scatter",
                                    "x": [
                                        56932178.41912569,
                                        42850236.057907104,
                                        32709949.99563256,
                                        23987035.402845062,
                                        16739478.664749369,
                                        10706695.443319757,
                                        6061079.467283212,
                                        2676673.860829939,
                                        704916.9695302184,
                                        0
                                    ],
                                    "xaxis": "x",
                                    "y": [
                                        10608.369552700002,
                                        9430.675243898291,
                                        8252.4168131,
                                        7072.5664795,
                                        5897.8261145,
                                        4723.0095898,
                                        3542.9291006400003,
                                        2361.5047949,
                                        1180.4750340800001,
                                        0
                                    ],
                                    "yaxis": "y"
                                }
                            ],
                            "layout": {
                                "legend": {
                                    "tracegroupgap": 0
                                },
                                "template": {
                                    "data": {
                                        "bar": [
                                            {
                                                "error_x": {
                                                    "color": "#2a3f5f"
                                                },
                                                "error_y": {
                                                    "color": "#2a3f5f"
                                                },
                                                "marker": {
                                                    "line": {
                                                        "color": "#E5ECF6",
                                                        "width": 0.5
                                                    }
                                                },
                                                "type": "bar"
                                            }
                                        ],
                                        "barpolar": [
                                            {
                                                "marker": {
                                                    "line": {
                                                        "color": "#E5ECF6",
                                                        "width": 0.5
                                                    }
                                                },
                                                "type": "barpolar"
                                            }
                                        ],
                                        "carpet": [
                                            {
                                                "aaxis": {
                                                    "endlinecolor": "#2a3f5f",
                                                    "gridcolor": "white",
                                                    "linecolor": "white",
                                                    "minorgridcolor": "white",
                                                    "startlinecolor": "#2a3f5f"
                                                },
                                                "baxis": {
                                                    "endlinecolor": "#2a3f5f",
                                                    "gridcolor": "white",
                                                    "linecolor": "white",
                                                    "minorgridcolor": "white",
                                                    "startlinecolor": "#2a3f5f"
                                                },
                                                "type": "carpet"
                                            }
                                        ],
                                        "choropleth": [
                                            {
                                                "colorbar": {
                                                    "outlinewidth": 0,
                                                    "ticks": ""
                                                },
                                                "type": "choropleth"
                                            }
                                        ],
                                        "contour": [
                                            {
                                                "colorbar": {
                                                    "outlinewidth": 0,
                                                    "ticks": ""
                                                },
                                                "colorscale": [
                                                    [
                                                        0,
                                                        "#0d0887"
                                                    ],
                                                    [
                                                        0.1111111111111111,
                                                        "#46039f"
                                                    ],
                                                    [
                                                        0.2222222222222222,
                                                        "#7201a8"
                                                    ],
                                                    [
                                                        0.3333333333333333,
                                                        "#9c179e"
                                                    ],
                                                    [
                                                        0.4444444444444444,
                                                        "#bd3786"
                                                    ],
                                                    [
                                                        0.5555555555555556,
                                                        "#d8576b"
                                                    ],
                                                    [
                                                        0.6666666666666666,
                                                        "#ed7953"
                                                    ],
                                                    [
                                                        0.7777777777777778,
                                                        "#fb9f3a"
                                                    ],
                                                    [
                                                        0.8888888888888888,
                                                        "#fdca26"
                                                    ],
                                                    [
                                                        1,
                                                        "#f0f921"
                                                    ]
                                                ],
                                                "type": "contour"
                                            }
                                        ],
                                        "contourcarpet": [
                                            {
                                                "colorbar": {
                                                    "outlinewidth": 0,
                                                    "ticks": ""
                                                },
                                                "type": "contourcarpet"
                                            }
                                        ],
                                        "heatmap": [
                                            {
                                                "colorbar": {
                                                    "outlinewidth": 0,
                                                    "ticks": ""
                                                },
                                                "colorscale": [
                                                    [
                                                        0,
                                                        "#0d0887"
                                                    ],
                                                    [
                                                        0.1111111111111111,
                                                        "#46039f"
                                                    ],
                                                    [
                                                        0.2222222222222222,
                                                        "#7201a8"
                                                    ],
                                                    [
                                                        0.3333333333333333,
                                                        "#9c179e"
                                                    ],
                                                    [
                                                        0.4444444444444444,
                                                        "#bd3786"
                                                    ],
                                                    [
                                                        0.5555555555555556,
                                                        "#d8576b"
                                                    ],
                                                    [
                                                        0.6666666666666666,
                                                        "#ed7953"
                                                    ],
                                                    [
                                                        0.7777777777777778,
                                                        "#fb9f3a"
                                                    ],
                                                    [
                                                        0.8888888888888888,
                                                        "#fdca26"
                                                    ],
                                                    [
                                                        1,
                                                        "#f0f921"
                                                    ]
                                                ],
                                                "type": "heatmap"
                                            }
                                        ],
                                        "heatmapgl": [
                                            {
                                                "colorbar": {
                                                    "outlinewidth": 0,
                                                    "ticks": ""
                                                },
                                                "colorscale": [
                                                    [
                                                        0,
                                                        "#0d0887"
                                                    ],
                                                    [
                                                        0.1111111111111111,
                                                        "#46039f"
                                                    ],
                                                    [
                                                        0.2222222222222222,
                                                        "#7201a8"
                                                    ],
                                                    [
                                                        0.3333333333333333,
                                                        "#9c179e"
                                                    ],
                                                    [
                                                        0.4444444444444444,
                                                        "#bd3786"
                                                    ],
                                                    [
                                                        0.5555555555555556,
                                                        "#d8576b"
                                                    ],
                                                    [
                                                        0.6666666666666666,
                                                        "#ed7953"
                                                    ],
                                                    [
                                                        0.7777777777777778,
                                                        "#fb9f3a"
                                                    ],
                                                    [
                                                        0.8888888888888888,
                                                        "#fdca26"
                                                    ],
                                                    [
                                                        1,
                                                        "#f0f921"
                                                    ]
                                                ],
                                                "type": "heatmapgl"
                                            }
                                        ],
                                        "histogram": [
                                            {
                                                "marker": {
                                                    "colorbar": {
                                                        "outlinewidth": 0,
                                                        "ticks": ""
                                                    }
                                                },
                                                "type": "histogram"
                                            }
                                        ],
                                        "histogram2d": [
                                            {
                                                "colorbar": {
                                                    "outlinewidth": 0,
                                                    "ticks": ""
                                                },
                                                "colorscale": [
                                                    [
                                                        0,
                                                        "#0d0887"
                                                    ],
                                                    [
                                                        0.1111111111111111,
                                                        "#46039f"
                                                    ],
                                                    [
                                                        0.2222222222222222,
                                                        "#7201a8"
                                                    ],
                                                    [
                                                        0.3333333333333333,
                                                        "#9c179e"
                                                    ],
                                                    [
                                                        0.4444444444444444,
                                                        "#bd3786"
                                                    ],
                                                    [
                                                        0.5555555555555556,
                                                        "#d8576b"
                                                    ],
                                                    [
                                                        0.6666666666666666,
                                                        "#ed7953"
                                                    ],
                                                    [
                                                        0.7777777777777778,
                                                        "#fb9f3a"
                                                    ],
                                                    [
                                                        0.8888888888888888,
                                                        "#fdca26"
                                                    ],
                                                    [
                                                        1,
                                                        "#f0f921"
                                                    ]
                                                ],
                                                "type": "histogram2d"
                                            }
                                        ],
                                        "histogram2dcontour": [
                                            {
                                                "colorbar": {
                                                    "outlinewidth": 0,
                                                    "ticks": ""
                                                },
                                                "colorscale": [
                                                    [
                                                        0,
                                                        "#0d0887"
                                                    ],
                                                    [
                                                        0.1111111111111111,
                                                        "#46039f"
                                                    ],
                                                    [
                                                        0.2222222222222222,
                                                        "#7201a8"
                                                    ],
                                                    [
                                                        0.3333333333333333,
                                                        "#9c179e"
                                                    ],
                                                    [
                                                        0.4444444444444444,
                                                        "#bd3786"
                                                    ],
                                                    [
                                                        0.5555555555555556,
                                                        "#d8576b"
                                                    ],
                                                    [
                                                        0.6666666666666666,
                                                        "#ed7953"
                                                    ],
                                                    [
                                                        0.7777777777777778,
                                                        "#fb9f3a"
                                                    ],
                                                    [
                                                        0.8888888888888888,
                                                        "#fdca26"
                                                    ],
                                                    [
                                                        1,
                                                        "#f0f921"
                                                    ]
                                                ],
                                                "type": "histogram2dcontour"
                                            }
                                        ],
                                        "mesh3d": [
                                            {
                                                "colorbar": {
                                                    "outlinewidth": 0,
                                                    "ticks": ""
                                                },
                                                "type": "mesh3d"
                                            }
                                        ],
                                        "parcoords": [
                                            {
                                                "line": {
                                                    "colorbar": {
                                                        "outlinewidth": 0,
                                                        "ticks": ""
                                                    }
                                                },
                                                "type": "parcoords"
                                            }
                                        ],
                                        "pie": [
                                            {
                                                "automargin": true,
                                                "type": "pie"
                                            }
                                        ],
                                        "scatter": [
                                            {
                                                "marker": {
                                                    "colorbar": {
                                                        "outlinewidth": 0,
                                                        "ticks": ""
                                                    }
                                                },
                                                "type": "scatter"
                                            }
                                        ],
                                        "scatter3d": [
                                            {
                                                "line": {
                                                    "colorbar": {
                                                        "outlinewidth": 0,
                                                        "ticks": ""
                                                    }
                                                },
                                                "marker": {
                                                    "colorbar": {
                                                        "outlinewidth": 0,
                                                        "ticks": ""
                                                    }
                                                },
                                                "type": "scatter3d"
                                            }
                                        ],
                                        "scattercarpet": [
                                            {
                                                "marker": {
                                                    "colorbar": {
                                                        "outlinewidth": 0,
                                                        "ticks": ""
                                                    }
                                                },
                                                "type": "scattercarpet"
                                            }
                                        ],
                                        "scattergeo": [
                                            {
                                                "marker": {
                                                    "colorbar": {
                                                        "outlinewidth": 0,
                                                        "ticks": ""
                                                    }
                                                },
                                                "type": "scattergeo"
                                            }
                                        ],
                                        "scattergl": [
                                            {
                                                "marker": {
                                                    "colorbar": {
                                                        "outlinewidth": 0,
                                                        "ticks": ""
                                                    }
                                                },
                                                "type": "scattergl"
                                            }
                                        ],
                                        "scattermapbox": [
                                            {
                                                "marker": {
                                                    "colorbar": {
                                                        "outlinewidth": 0,
                                                        "ticks": ""
                                                    }
                                                },
                                                "type": "scattermapbox"
                                            }
                                        ],
                                        "scatterpolar": [
                                            {
                                                "marker": {
                                                    "colorbar": {
                                                        "outlinewidth": 0,
                                                        "ticks": ""
                                                    }
                                                },
                                                "type": "scatterpolar"
                                            }
                                        ],
                                        "scatterpolargl": [
                                            {
                                                "marker": {
                                                    "colorbar": {
                                                        "outlinewidth": 0,
                                                        "ticks": ""
                                                    }
                                                },
                                                "type": "scatterpolargl"
                                            }
                                        ],
                                        "scatterternary": [
                                            {
                                                "marker": {
                                                    "colorbar": {
                                                        "outlinewidth": 0,
                                                        "ticks": ""
                                                    }
                                                },
                                                "type": "scatterternary"
                                            }
                                        ],
                                        "surface": [
                                            {
                                                "colorbar": {
                                                    "outlinewidth": 0,
                                                    "ticks": ""
                                                },
                                                "colorscale": [
                                                    [
                                                        0,
                                                        "#0d0887"
                                                    ],
                                                    [
                                                        0.1111111111111111,
                                                        "#46039f"
                                                    ],
                                                    [
                                                        0.2222222222222222,
                                                        "#7201a8"
                                                    ],
                                                    [
                                                        0.3333333333333333,
                                                        "#9c179e"
                                                    ],
                                                    [
                                                        0.4444444444444444,
                                                        "#bd3786"
                                                    ],
                                                    [
                                                        0.5555555555555556,
                                                        "#d8576b"
                                                    ],
                                                    [
                                                        0.6666666666666666,
                                                        "#ed7953"
                                                    ],
                                                    [
                                                        0.7777777777777778,
                                                        "#fb9f3a"
                                                    ],
                                                    [
                                                        0.8888888888888888,
                                                        "#fdca26"
                                                    ],
                                                    [
                                                        1,
                                                        "#f0f921"
                                                    ]
                                                ],
                                                "type": "surface"
                                            }
                                        ],
                                        "table": [
                                            {
                                                "cells": {
                                                    "fill": {
                                                        "color": "#EBF0F8"
                                                    },
                                                    "line": {
                                                        "color": "white"
                                                    }
                                                },
                                                "header": {
                                                    "fill": {
                                                        "color": "#C8D4E3"
                                                    },
                                                    "line": {
                                                        "color": "white"
                                                    }
                                                },
                                                "type": "table"
                                            }
                                        ]
                                    },
                                    "layout": {
                                        "annotationdefaults": {
                                            "arrowcolor": "#2a3f5f",
                                            "arrowhead": 0,
                                            "arrowwidth": 1
                                        },
                                        "coloraxis": {
                                            "colorbar": {
                                                "outlinewidth": 0,
                                                "ticks": ""
                                            }
                                        },
                                        "colorscale": {
                                            "diverging": [
                                                [
                                                    0,
                                                    "#8e0152"
                                                ],
                                                [
                                                    0.1,
                                                    "#c51b7d"
                                                ],
                                                [
                                                    0.2,
                                                    "#de77ae"
                                                ],
                                                [
                                                    0.3,
                                                    "#f1b6da"
                                                ],
                                                [
                                                    0.4,
                                                    "#fde0ef"
                                                ],
                                                [
                                                    0.5,
                                                    "#f7f7f7"
                                                ],
                                                [
                                                    0.6,
                                                    "#e6f5d0"
                                                ],
                                                [
                                                    0.7,
                                                    "#b8e186"
                                                ],
                                                [
                                                    0.8,
                                                    "#7fbc41"
                                                ],
                                                [
                                                    0.9,
                                                    "#4d9221"
                                                ],
                                                [
                                                    1,
                                                    "#276419"
                                                ]
                                            ],
                                            "sequential": [
                                                [
                                                    0,
                                                    "#0d0887"
                                                ],
                                                [
                                                    0.1111111111111111,
                                                    "#46039f"
                                                ],
                                                [
                                                    0.2222222222222222,
                                                    "#7201a8"
                                                ],
                                                [
                                                    0.3333333333333333,
                                                    "#9c179e"
                                                ],
                                                [
                                                    0.4444444444444444,
                                                    "#bd3786"
                                                ],
                                                [
                                                    0.5555555555555556,
                                                    "#d8576b"
                                                ],
                                                [
                                                    0.6666666666666666,
                                                    "#ed7953"
                                                ],
                                                [
                                                    0.7777777777777778,
                                                    "#fb9f3a"
                                                ],
                                                [
                                                    0.8888888888888888,
                                                    "#fdca26"
                                                ],
                                                [
                                                    1,
                                                    "#f0f921"
                                                ]
                                            ],
                                            "sequentialminus": [
                                                [
                                                    0,
                                                    "#0d0887"
                                                ],
                                                [
                                                    0.1111111111111111,
                                                    "#46039f"
                                                ],
                                                [
                                                    0.2222222222222222,
                                                    "#7201a8"
                                                ],
                                                [
                                                    0.3333333333333333,
                                                    "#9c179e"
                                                ],
                                                [
                                                    0.4444444444444444,
                                                    "#bd3786"
                                                ],
                                                [
                                                    0.5555555555555556,
                                                    "#d8576b"
                                                ],
                                                [
                                                    0.6666666666666666,
                                                    "#ed7953"
                                                ],
                                                [
                                                    0.7777777777777778,
                                                    "#fb9f3a"
                                                ],
                                                [
                                                    0.8888888888888888,
                                                    "#fdca26"
                                                ],
                                                [
                                                    1,
                                                    "#f0f921"
                                                ]
                                            ]
                                        },
                                        "colorway": [
                                            "#636efa",
                                            "#EF553B",
                                            "#00cc96",
                                            "#ab63fa",
                                            "#FFA15A",
                                            "#19d3f3",
                                            "#FF6692",
                                            "#B6E880",
                                            "#FF97FF",
                                            "#FECB52"
                                        ],
                                        "font": {
                                            "color": "#2a3f5f"
                                        },
                                        "geo": {
                                            "bgcolor": "white",
                                            "lakecolor": "white",
                                            "landcolor": "#E5ECF6",
                                            "showlakes": true,
                                            "showland": true,
                                            "subunitcolor": "white"
                                        },
                                        "hoverlabel": {
                                            "align": "left"
                                        },
                                        "hovermode": "closest",
                                        "mapbox": {
                                            "style": "light"
                                        },
                                        "paper_bgcolor": "white",
                                        "plot_bgcolor": "#E5ECF6",
                                        "polar": {
                                            "angularaxis": {
                                                "gridcolor": "white",
                                                "linecolor": "white",
                                                "ticks": ""
                                            },
                                            "bgcolor": "#E5ECF6",
                                            "radialaxis": {
                                                "gridcolor": "white",
                                                "linecolor": "white",
                                                "ticks": ""
                                            }
                                        },
                                        "scene": {
                                            "xaxis": {
                                                "backgroundcolor": "#E5ECF6",
                                                "gridcolor": "white",
                                                "gridwidth": 2,
                                                "linecolor": "white",
                                                "showbackground": true,
                                                "ticks": "",
                                                "zerolinecolor": "white"
                                            },
                                            "yaxis": {
                                                "backgroundcolor": "#E5ECF6",
                                                "gridcolor": "white",
                                                "gridwidth": 2,
                                                "linecolor": "white",
                                                "showbackground": true,
                                                "ticks": "",
                                                "zerolinecolor": "white"
                                            },
                                            "zaxis": {
                                                "backgroundcolor": "#E5ECF6",
                                                "gridcolor": "white",
                                                "gridwidth": 2,
                                                "linecolor": "white",
                                                "showbackground": true,
                                                "ticks": "",
                                                "zerolinecolor": "white"
                                            }
                                        },
                                        "shapedefaults": {
                                            "line": {
                                                "color": "#2a3f5f"
                                            }
                                        },
                                        "ternary": {
                                            "aaxis": {
                                                "gridcolor": "white",
                                                "linecolor": "white",
                                                "ticks": ""
                                            },
                                            "baxis": {
                                                "gridcolor": "white",
                                                "linecolor": "white",
                                                "ticks": ""
                                            },
                                            "bgcolor": "#E5ECF6",
                                            "caxis": {
                                                "gridcolor": "white",
                                                "linecolor": "white",
                                                "ticks": ""
                                            }
                                        },
                                        "title": {
                                            "x": 0.05
                                        },
                                        "xaxis": {
                                            "automargin": true,
                                            "gridcolor": "white",
                                            "linecolor": "white",
                                            "ticks": "",
                                            "title": {
                                                "standoff": 15
                                            },
                                            "zerolinecolor": "white",
                                            "zerolinewidth": 2
                                        },
                                        "yaxis": {
                                            "automargin": true,
                                            "gridcolor": "white",
                                            "linecolor": "white",
                                            "ticks": "",
                                            "title": {
                                                "standoff": 15
                                            },
                                            "zerolinecolor": "white",
                                            "zerolinewidth": 2
                                        }
                                    }
                                },
                                "title": {
                                    "text": "Expected Return by Variance"
                                },
                                "xaxis": {
                                    "anchor": "y",
                                    "domain": [
                                        0,
                                        1
                                    ],
                                    "title": {
                                        "text": "covariance_sol"
                                    }
                                },
                                "yaxis": {
                                    "anchor": "x",
                                    "domain": [
                                        0,
                                        1
                                    ],
                                    "title": {
                                        "text": "return_sol"
                                    }
                                }
                            }
                        },
                        "text/html": "<div>\n        \n        \n            <div id=\"e407c798-f0bb-487f-aae5-b50f22e7202b\" class=\"plotly-graph-div\" style=\"height:525px; width:100%;\"></div>\n            <script type=\"text/javascript\">\n                require([\"plotly\"], function(Plotly) {\n                    window.PLOTLYENV=window.PLOTLYENV || {};\n                    \n                if (document.getElementById(\"e407c798-f0bb-487f-aae5-b50f22e7202b\")) {\n                    Plotly.newPlot(\n                        'e407c798-f0bb-487f-aae5-b50f22e7202b',\n                        [{\"hovertemplate\": \"covariance_sol=%{x}<br>return_sol=%{y}<extra></extra>\", \"legendgroup\": \"\", \"line\": {\"color\": \"#636efa\", \"dash\": \"solid\"}, \"mode\": \"lines\", \"name\": \"\", \"orientation\": \"v\", \"showlegend\": false, \"type\": \"scatter\", \"x\": [56932178.41912569, 42850236.057907104, 32709949.99563256, 23987035.402845062, 16739478.664749369, 10706695.443319757, 6061079.467283212, 2676673.860829939, 704916.9695302184, 0.0], \"xaxis\": \"x\", \"y\": [10608.369552700002, 9430.675243898291, 8252.4168131, 7072.5664795, 5897.8261145, 4723.0095898, 3542.9291006400003, 2361.5047949, 1180.4750340800001, 0.0], \"yaxis\": \"y\"}],\n                        {\"legend\": {\"tracegroupgap\": 0}, \"template\": {\"data\": {\"bar\": [{\"error_x\": {\"color\": \"#2a3f5f\"}, \"error_y\": {\"color\": \"#2a3f5f\"}, \"marker\": {\"line\": {\"color\": \"#E5ECF6\", \"width\": 0.5}}, \"type\": \"bar\"}], \"barpolar\": [{\"marker\": {\"line\": {\"color\": \"#E5ECF6\", \"width\": 0.5}}, \"type\": \"barpolar\"}], \"carpet\": [{\"aaxis\": {\"endlinecolor\": \"#2a3f5f\", \"gridcolor\": \"white\", \"linecolor\": \"white\", \"minorgridcolor\": \"white\", \"startlinecolor\": \"#2a3f5f\"}, \"baxis\": {\"endlinecolor\": \"#2a3f5f\", \"gridcolor\": \"white\", \"linecolor\": \"white\", \"minorgridcolor\": \"white\", \"startlinecolor\": \"#2a3f5f\"}, \"type\": \"carpet\"}], \"choropleth\": [{\"colorbar\": {\"outlinewidth\": 0, \"ticks\": \"\"}, \"type\": \"choropleth\"}], \"contour\": [{\"colorbar\": {\"outlinewidth\": 0, \"ticks\": \"\"}, \"colorscale\": [[0.0, \"#0d0887\"], [0.1111111111111111, \"#46039f\"], [0.2222222222222222, \"#7201a8\"], [0.3333333333333333, \"#9c179e\"], [0.4444444444444444, \"#bd3786\"], [0.5555555555555556, \"#d8576b\"], [0.6666666666666666, \"#ed7953\"], [0.7777777777777778, \"#fb9f3a\"], [0.8888888888888888, \"#fdca26\"], [1.0, \"#f0f921\"]], \"type\": \"contour\"}], \"contourcarpet\": [{\"colorbar\": {\"outlinewidth\": 0, \"ticks\": \"\"}, \"type\": \"contourcarpet\"}], \"heatmap\": [{\"colorbar\": {\"outlinewidth\": 0, \"ticks\": \"\"}, \"colorscale\": [[0.0, \"#0d0887\"], [0.1111111111111111, \"#46039f\"], [0.2222222222222222, \"#7201a8\"], [0.3333333333333333, \"#9c179e\"], [0.4444444444444444, \"#bd3786\"], [0.5555555555555556, \"#d8576b\"], [0.6666666666666666, \"#ed7953\"], [0.7777777777777778, \"#fb9f3a\"], [0.8888888888888888, \"#fdca26\"], [1.0, \"#f0f921\"]], \"type\": \"heatmap\"}], \"heatmapgl\": [{\"colorbar\": {\"outlinewidth\": 0, \"ticks\": \"\"}, \"colorscale\": [[0.0, \"#0d0887\"], [0.1111111111111111, \"#46039f\"], [0.2222222222222222, \"#7201a8\"], [0.3333333333333333, \"#9c179e\"], [0.4444444444444444, \"#bd3786\"], [0.5555555555555556, \"#d8576b\"], [0.6666666666666666, \"#ed7953\"], [0.7777777777777778, \"#fb9f3a\"], [0.8888888888888888, \"#fdca26\"], [1.0, \"#f0f921\"]], \"type\": \"heatmapgl\"}], \"histogram\": [{\"marker\": {\"colorbar\": {\"outlinewidth\": 0, \"ticks\": \"\"}}, \"type\": \"histogram\"}], \"histogram2d\": [{\"colorbar\": {\"outlinewidth\": 0, \"ticks\": \"\"}, \"colorscale\": [[0.0, \"#0d0887\"], [0.1111111111111111, \"#46039f\"], [0.2222222222222222, \"#7201a8\"], [0.3333333333333333, \"#9c179e\"], [0.4444444444444444, \"#bd3786\"], [0.5555555555555556, \"#d8576b\"], [0.6666666666666666, \"#ed7953\"], [0.7777777777777778, \"#fb9f3a\"], [0.8888888888888888, \"#fdca26\"], [1.0, \"#f0f921\"]], \"type\": \"histogram2d\"}], \"histogram2dcontour\": [{\"colorbar\": {\"outlinewidth\": 0, \"ticks\": \"\"}, \"colorscale\": [[0.0, \"#0d0887\"], [0.1111111111111111, \"#46039f\"], [0.2222222222222222, \"#7201a8\"], [0.3333333333333333, \"#9c179e\"], [0.4444444444444444, \"#bd3786\"], [0.5555555555555556, \"#d8576b\"], [0.6666666666666666, \"#ed7953\"], [0.7777777777777778, \"#fb9f3a\"], [0.8888888888888888, \"#fdca26\"], [1.0, \"#f0f921\"]], \"type\": \"histogram2dcontour\"}], \"mesh3d\": [{\"colorbar\": {\"outlinewidth\": 0, \"ticks\": \"\"}, \"type\": \"mesh3d\"}], \"parcoords\": [{\"line\": {\"colorbar\": {\"outlinewidth\": 0, \"ticks\": \"\"}}, \"type\": \"parcoords\"}], \"pie\": [{\"automargin\": true, \"type\": \"pie\"}], \"scatter\": [{\"marker\": {\"colorbar\": {\"outlinewidth\": 0, \"ticks\": \"\"}}, \"type\": \"scatter\"}], \"scatter3d\": [{\"line\": {\"colorbar\": {\"outlinewidth\": 0, \"ticks\": \"\"}}, \"marker\": {\"colorbar\": {\"outlinewidth\": 0, \"ticks\": \"\"}}, \"type\": \"scatter3d\"}], \"scattercarpet\": [{\"marker\": {\"colorbar\": {\"outlinewidth\": 0, \"ticks\": \"\"}}, \"type\": \"scattercarpet\"}], \"scattergeo\": [{\"marker\": {\"colorbar\": {\"outlinewidth\": 0, \"ticks\": \"\"}}, \"type\": \"scattergeo\"}], \"scattergl\": [{\"marker\": {\"colorbar\": {\"outlinewidth\": 0, \"ticks\": \"\"}}, \"type\": \"scattergl\"}], \"scattermapbox\": [{\"marker\": {\"colorbar\": {\"outlinewidth\": 0, \"ticks\": \"\"}}, \"type\": \"scattermapbox\"}], \"scatterpolar\": [{\"marker\": {\"colorbar\": {\"outlinewidth\": 0, \"ticks\": \"\"}}, \"type\": \"scatterpolar\"}], \"scatterpolargl\": [{\"marker\": {\"colorbar\": {\"outlinewidth\": 0, \"ticks\": \"\"}}, \"type\": \"scatterpolargl\"}], \"scatterternary\": [{\"marker\": {\"colorbar\": {\"outlinewidth\": 0, \"ticks\": \"\"}}, \"type\": \"scatterternary\"}], \"surface\": [{\"colorbar\": {\"outlinewidth\": 0, \"ticks\": \"\"}, \"colorscale\": [[0.0, \"#0d0887\"], [0.1111111111111111, \"#46039f\"], [0.2222222222222222, \"#7201a8\"], [0.3333333333333333, \"#9c179e\"], [0.4444444444444444, \"#bd3786\"], [0.5555555555555556, \"#d8576b\"], [0.6666666666666666, \"#ed7953\"], [0.7777777777777778, \"#fb9f3a\"], [0.8888888888888888, \"#fdca26\"], [1.0, \"#f0f921\"]], \"type\": \"surface\"}], \"table\": [{\"cells\": {\"fill\": {\"color\": \"#EBF0F8\"}, \"line\": {\"color\": \"white\"}}, \"header\": {\"fill\": {\"color\": \"#C8D4E3\"}, \"line\": {\"color\": \"white\"}}, \"type\": \"table\"}]}, \"layout\": {\"annotationdefaults\": {\"arrowcolor\": \"#2a3f5f\", \"arrowhead\": 0, \"arrowwidth\": 1}, \"coloraxis\": {\"colorbar\": {\"outlinewidth\": 0, \"ticks\": \"\"}}, \"colorscale\": {\"diverging\": [[0, \"#8e0152\"], [0.1, \"#c51b7d\"], [0.2, \"#de77ae\"], [0.3, \"#f1b6da\"], [0.4, \"#fde0ef\"], [0.5, \"#f7f7f7\"], [0.6, \"#e6f5d0\"], [0.7, \"#b8e186\"], [0.8, \"#7fbc41\"], [0.9, \"#4d9221\"], [1, \"#276419\"]], \"sequential\": [[0.0, \"#0d0887\"], [0.1111111111111111, \"#46039f\"], [0.2222222222222222, \"#7201a8\"], [0.3333333333333333, \"#9c179e\"], [0.4444444444444444, \"#bd3786\"], [0.5555555555555556, \"#d8576b\"], [0.6666666666666666, \"#ed7953\"], [0.7777777777777778, \"#fb9f3a\"], [0.8888888888888888, \"#fdca26\"], [1.0, \"#f0f921\"]], \"sequentialminus\": [[0.0, \"#0d0887\"], [0.1111111111111111, \"#46039f\"], [0.2222222222222222, \"#7201a8\"], [0.3333333333333333, \"#9c179e\"], [0.4444444444444444, \"#bd3786\"], [0.5555555555555556, \"#d8576b\"], [0.6666666666666666, \"#ed7953\"], [0.7777777777777778, \"#fb9f3a\"], [0.8888888888888888, \"#fdca26\"], [1.0, \"#f0f921\"]]}, \"colorway\": [\"#636efa\", \"#EF553B\", \"#00cc96\", \"#ab63fa\", \"#FFA15A\", \"#19d3f3\", \"#FF6692\", \"#B6E880\", \"#FF97FF\", \"#FECB52\"], \"font\": {\"color\": \"#2a3f5f\"}, \"geo\": {\"bgcolor\": \"white\", \"lakecolor\": \"white\", \"landcolor\": \"#E5ECF6\", \"showlakes\": true, \"showland\": true, \"subunitcolor\": \"white\"}, \"hoverlabel\": {\"align\": \"left\"}, \"hovermode\": \"closest\", \"mapbox\": {\"style\": \"light\"}, \"paper_bgcolor\": \"white\", \"plot_bgcolor\": \"#E5ECF6\", \"polar\": {\"angularaxis\": {\"gridcolor\": \"white\", \"linecolor\": \"white\", \"ticks\": \"\"}, \"bgcolor\": \"#E5ECF6\", \"radialaxis\": {\"gridcolor\": \"white\", \"linecolor\": \"white\", \"ticks\": \"\"}}, \"scene\": {\"xaxis\": {\"backgroundcolor\": \"#E5ECF6\", \"gridcolor\": \"white\", \"gridwidth\": 2, \"linecolor\": \"white\", \"showbackground\": true, \"ticks\": \"\", \"zerolinecolor\": \"white\"}, \"yaxis\": {\"backgroundcolor\": \"#E5ECF6\", \"gridcolor\": \"white\", \"gridwidth\": 2, \"linecolor\": \"white\", \"showbackground\": true, \"ticks\": \"\", \"zerolinecolor\": \"white\"}, \"zaxis\": {\"backgroundcolor\": \"#E5ECF6\", \"gridcolor\": \"white\", \"gridwidth\": 2, \"linecolor\": \"white\", \"showbackground\": true, \"ticks\": \"\", \"zerolinecolor\": \"white\"}}, \"shapedefaults\": {\"line\": {\"color\": \"#2a3f5f\"}}, \"ternary\": {\"aaxis\": {\"gridcolor\": \"white\", \"linecolor\": \"white\", \"ticks\": \"\"}, \"baxis\": {\"gridcolor\": \"white\", \"linecolor\": \"white\", \"ticks\": \"\"}, \"bgcolor\": \"#E5ECF6\", \"caxis\": {\"gridcolor\": \"white\", \"linecolor\": \"white\", \"ticks\": \"\"}}, \"title\": {\"x\": 0.05}, \"xaxis\": {\"automargin\": true, \"gridcolor\": \"white\", \"linecolor\": \"white\", \"ticks\": \"\", \"title\": {\"standoff\": 15}, \"zerolinecolor\": \"white\", \"zerolinewidth\": 2}, \"yaxis\": {\"automargin\": true, \"gridcolor\": \"white\", \"linecolor\": \"white\", \"ticks\": \"\", \"title\": {\"standoff\": 15}, \"zerolinecolor\": \"white\", \"zerolinewidth\": 2}}}, \"title\": {\"text\": \"Expected Return by Variance\"}, \"xaxis\": {\"anchor\": \"y\", \"domain\": [0.0, 1.0], \"title\": {\"text\": \"covariance_sol\"}}, \"yaxis\": {\"anchor\": \"x\", \"domain\": [0.0, 1.0], \"title\": {\"text\": \"return_sol\"}}},\n                        {\"responsive\": true}\n                    ).then(function(){\n                            \nvar gd = document.getElementById('e407c798-f0bb-487f-aae5-b50f22e7202b');\nvar x = new MutationObserver(function (mutations, observer) {{\n        var display = window.getComputedStyle(gd).display;\n        if (!display || display === 'none') {{\n            console.log([gd, 'removed!']);\n            Plotly.purge(gd);\n            observer.disconnect();\n        }}\n}});\n\n// Listen for the removal of the full notebook cells\nvar notebookContainer = gd.closest('#notebook-container');\nif (notebookContainer) {{\n    x.observe(notebookContainer, {childList: true});\n}}\n\n// Listen for the clearing of the current output cell\nvar outputEl = gd.closest('.output');\nif (outputEl) {{\n    x.observe(outputEl, {childList: true});\n}}\n\n                        })\n                };\n                });\n            </script>\n        </div>"
                    },
                    "metadata": {},
                    "output_type": "display_data"
                }
            ],
            "source": "#dd-ignore\nimport plotly.express as px\n\nfig = px.line(df, y=\"return_sol\", x=\"covariance_sol\", title='Expected Return by Variance')\nfig.show()"
        },
        {
            "cell_type": "markdown",
            "metadata": {},
            "source": "# Post processing"
        },
        {
            "cell_type": "code",
            "execution_count": null,
            "metadata": {},
            "outputs": [],
            "source": ""
        },
        {
            "cell_type": "markdown",
            "metadata": {},
            "source": "## Investment Allocation Report\ninvestment_allocation_report:\n* investment_id\n* value\n* investment_industry\n* investment_country\n* investment_recommendation\n* investment_industry"
        },
        {
            "cell_type": "code",
            "execution_count": null,
            "metadata": {},
            "outputs": [],
            "source": ""
        },
        {
            "cell_type": "code",
            "execution_count": 254,
            "metadata": {},
            "outputs": [],
            "source": "outputs['InvestmentAllocation'] = investments.reset_index()\noutputs['ParetoFront'] = pareto_df\noutputs['PortfolioKPIs'] = df_kpis"
        },
        {
            "cell_type": "code",
            "execution_count": 255,
            "metadata": {},
            "outputs": [],
            "source": "#dd-ignore\nsm.update_solve_output_into_scenario(mdl, outputs)"
        },
        {
            "cell_type": "code",
            "execution_count": null,
            "metadata": {},
            "outputs": [],
            "source": ""
        },
        {
            "cell_type": "code",
            "execution_count": null,
            "metadata": {},
            "outputs": [],
            "source": ""
        }
    ],
    "metadata": {
        "kernelspec": {
            "display_name": "Python 3.7",
            "language": "python",
            "name": "python3"
        },
        "language_info": {
            "codemirror_mode": {
                "name": "ipython",
                "version": 3
            },
            "file_extension": ".py",
            "mimetype": "text/x-python",
            "name": "python",
            "nbconvert_exporter": "python",
            "pygments_lexer": "ipython3",
            "version": "3.7.11"
        }
    },
    "nbformat": 4,
    "nbformat_minor": 1
}